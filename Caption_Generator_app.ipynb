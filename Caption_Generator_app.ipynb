{
  "nbformat": 4,
  "nbformat_minor": 0,
  "metadata": {
    "colab": {
      "provenance": [],
      "mount_file_id": "14o-K7hlBLrauD6WOxu8f00_WZqZsI4fl",
      "authorship_tag": "ABX9TyNd40vDQXx9E7ur7JeGeotA",
      "include_colab_link": true
    },
    "kernelspec": {
      "name": "python3",
      "display_name": "Python 3"
    },
    "language_info": {
      "name": "python"
    }
  },
  "cells": [
    {
      "cell_type": "markdown",
      "metadata": {
        "id": "view-in-github",
        "colab_type": "text"
      },
      "source": [
        "<a href=\"https://colab.research.google.com/github/IshanTiwari-030800/Big-mart-Sales-data-Analysis/blob/main/Caption_Generator_app.ipynb\" target=\"_parent\"><img src=\"https://colab.research.google.com/assets/colab-badge.svg\" alt=\"Open In Colab\"/></a>"
      ]
    },
    {
      "cell_type": "markdown",
      "source": [
        "## Clone the repository and install the required libraries\n",
        "\n",
        "Please restart the runtime after running the next section. You will get an option from colab at the end of the executed output to do so."
      ],
      "metadata": {
        "id": "vLF1dzDoKP-Q"
      }
    },
    {
      "cell_type": "code",
      "execution_count": null,
      "metadata": {
        "id": "HJIDqH8nJSs_"
      },
      "outputs": [],
      "source": [
        "import os\n",
        "\n",
        "# Clone the repo\n",
        "!git clone https://github.com/IshanTiwari-030800/Social-media-caption-generation.git\n",
        "\n",
        "# Change the working directory\n",
        "os.chdir('/content/Social-media-caption-generation')\n",
        "\n",
        "# Install localtunnel\n",
        "!npm install localtunnel\n",
        "\n",
        "#Install the remaining dependencies\n",
        "!pip install -r requirements.txt"
      ]
    },
    {
      "cell_type": "markdown",
      "source": [
        "## Run the streamlit app\n",
        "\n",
        "The app is hosted via localtunnel which requires your system IP to run. Run the next cell and copy the IP address (You can see it in the output. Format - xxxx.xxxx.xxxx.xxxx)"
      ],
      "metadata": {
        "id": "RnHRhu5qKckm"
      }
    },
    {
      "cell_type": "code",
      "source": [
        "# Run this cell to generate the ip \n",
        "os.chdir('/content/Social-media-caption-generation')\n",
        "\n",
        "print(\"Copy this IP - \")\n",
        "!curl ipv4.icanhazip.com"
      ],
      "metadata": {
        "id": "D7q4SmdiLVXE"
      },
      "execution_count": null,
      "outputs": []
    },
    {
      "cell_type": "code",
      "source": [
        "!streamlit run app.py &>/content/logs.txt &\n",
        "!npx localtunnel --port 8501"
      ],
      "metadata": {
        "id": "PaFcrVESLuPm"
      },
      "execution_count": null,
      "outputs": []
    }
  ]
}